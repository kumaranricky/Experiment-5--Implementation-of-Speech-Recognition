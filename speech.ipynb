{
 "cells": [
  {
   "cell_type": "code",
   "execution_count": 1,
   "id": "8c5e92f6",
   "metadata": {},
   "outputs": [
    {
     "name": "stdout",
     "output_type": "stream",
     "text": [
      "Requirement already satisfied: SpeechRecognition in c:\\users\\kumaran\\anaconda3\\lib\\site-packages (3.10.0)\n",
      "Requirement already satisfied: requests>=2.26.0 in c:\\users\\kumaran\\anaconda3\\lib\\site-packages (from SpeechRecognition) (2.28.2)\n",
      "Requirement already satisfied: idna<4,>=2.5 in c:\\users\\kumaran\\anaconda3\\lib\\site-packages (from requests>=2.26.0->SpeechRecognition) (2.10)\n",
      "Requirement already satisfied: charset-normalizer<4,>=2 in c:\\users\\kumaran\\anaconda3\\lib\\site-packages (from requests>=2.26.0->SpeechRecognition) (3.1.0)\n",
      "Requirement already satisfied: certifi>=2017.4.17 in c:\\users\\kumaran\\anaconda3\\lib\\site-packages (from requests>=2.26.0->SpeechRecognition) (2020.12.5)\n",
      "Requirement already satisfied: urllib3<1.27,>=1.21.1 in c:\\users\\kumaran\\anaconda3\\lib\\site-packages (from requests>=2.26.0->SpeechRecognition) (1.26.4)\n",
      "Note: you may need to restart the kernel to use updated packages.\n"
     ]
    },
    {
     "name": "stderr",
     "output_type": "stream",
     "text": [
      "WARNING: There was an error checking the latest version of pip.\n"
     ]
    }
   ],
   "source": [
    "pip install SpeechRecognition"
   ]
  },
  {
   "cell_type": "code",
   "execution_count": 2,
   "id": "9ca4648d",
   "metadata": {},
   "outputs": [],
   "source": [
    "import speech_recognition as sr"
   ]
  },
  {
   "cell_type": "code",
   "execution_count": 3,
   "id": "633ada04",
   "metadata": {},
   "outputs": [],
   "source": [
    "file=(\"hello.wav\")\n",
    "r=sr.Recognizer()\n",
    "with sr.AudioFile(file) as source:\n",
    "    audio=r.record(source)\n"
   ]
  },
  {
   "cell_type": "code",
   "execution_count": 4,
   "id": "8cb80ffb",
   "metadata": {},
   "outputs": [
    {
     "name": "stdout",
     "output_type": "stream",
     "text": [
      "Indian Administrative Service IAS is the administrative power bi all India services agreement India free cancer today premier civil services in India 34 is a part of the union civil services and is one of the three arms at the all India services along with the Indian Police Service being a part of union civil services Indian Forest Service being a part of the union natural resources services members of this tree services Surfers government India as well as they enter the 28 states are there is establishment that is Constitutional bodies and mine Agencies auxiliary bodies public sector undertakings regulatory bodies statutory bodies and autonomous bodies\n"
     ]
    }
   ],
   "source": [
    "try:\n",
    "    text = r.recognize_google(audio)\n",
    "except sr.UnknownValueError:\n",
    "    print(\"Not clear\")\n",
    "except sr.RequestError as e:\n",
    "    print(\"Couldn't get results from Google Speech Recognition service; {0}\".format(e))\n",
    "\n",
    "# Print the text in the next lines.\n",
    "for line in text.splitlines():\n",
    "    print(line)"
   ]
  },
  {
   "cell_type": "code",
   "execution_count": null,
   "id": "c3530faa",
   "metadata": {},
   "outputs": [],
   "source": []
  },
  {
   "cell_type": "code",
   "execution_count": null,
   "id": "5427da08",
   "metadata": {},
   "outputs": [],
   "source": []
  }
 ],
 "metadata": {
  "kernelspec": {
   "display_name": "Python 3",
   "language": "python",
   "name": "python3"
  },
  "language_info": {
   "codemirror_mode": {
    "name": "ipython",
    "version": 3
   },
   "file_extension": ".py",
   "mimetype": "text/x-python",
   "name": "python",
   "nbconvert_exporter": "python",
   "pygments_lexer": "ipython3",
   "version": "3.8.8"
  }
 },
 "nbformat": 4,
 "nbformat_minor": 5
}
